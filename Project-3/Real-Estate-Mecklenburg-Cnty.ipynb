{
 "cells": [
  {
   "cell_type": "code",
   "execution_count": 27,
   "metadata": {},
   "outputs": [],
   "source": [
    "import requests\n",
    "from bs4 import BeautifulSoup as bs\n",
    "# importing splinter and setting up the chrome driver\n",
    "from splinter import Browser\n",
    "import pandas as pd"
   ]
  },
  {
   "cell_type": "code",
   "execution_count": 28,
   "metadata": {},
   "outputs": [],
   "source": [
    "# Accessing the web page\n",
    "url = \"https://www.redfin.com/county/2066/NC/Mecklenburg-County\"\n",
    "result = requests.get(url)"
   ]
  },
  {
   "cell_type": "code",
   "execution_count": 30,
   "metadata": {},
   "outputs": [
    {
     "name": "stdout",
     "output_type": "stream",
     "text": [
      "403\n"
     ]
    }
   ],
   "source": [
    "print(result.status_code)"
   ]
  },
  {
   "cell_type": "code",
   "execution_count": 31,
   "metadata": {},
   "outputs": [
    {
     "ename": "AttributeError",
     "evalue": "'str' object has no attribute 'headers'",
     "output_type": "error",
     "traceback": [
      "\u001b[1;31m---------------------------------------------------------------------------\u001b[0m",
      "\u001b[1;31mAttributeError\u001b[0m                            Traceback (most recent call last)",
      "\u001b[1;32m<ipython-input-31-d0f6c15e3012>\u001b[0m in \u001b[0;36m<module>\u001b[1;34m\u001b[0m\n\u001b[0;32m      1\u001b[0m \u001b[1;31m# Checking the HTTP header of website to verify that we are in the correct page\u001b[0m\u001b[1;33m\u001b[0m\u001b[1;33m\u001b[0m\u001b[1;33m\u001b[0m\u001b[0m\n\u001b[1;32m----> 2\u001b[1;33m \u001b[0mprint\u001b[0m\u001b[1;33m(\u001b[0m\u001b[0murl\u001b[0m\u001b[1;33m.\u001b[0m\u001b[0mheaders\u001b[0m\u001b[1;33m)\u001b[0m\u001b[1;33m\u001b[0m\u001b[1;33m\u001b[0m\u001b[0m\n\u001b[0m",
      "\u001b[1;31mAttributeError\u001b[0m: 'str' object has no attribute 'headers'"
     ]
    }
   ],
   "source": [
    "# Checking the HTTP header of website to verify that we are in the correct page\n",
    "#print(url.headers)"
   ]
  },
  {
   "cell_type": "code",
   "execution_count": 32,
   "metadata": {},
   "outputs": [],
   "source": [
    "# storing the page content of the website to a variable\n",
    "source = result.content\n",
    "#print(source)"
   ]
  },
  {
   "cell_type": "code",
   "execution_count": 33,
   "metadata": {},
   "outputs": [
    {
     "name": "stdout",
     "output_type": "stream",
     "text": [
      "<!DOCTYPE html5>\n",
      "<html>\n",
      " <head>\n",
      "  <meta charset=\"utf-8\"/>\n",
      "  <meta content=\"IE=edge,chrome=1\" http-equiv=\"X-UA-Compatible\"/>\n",
      "  <meta content=\"text/html; charset=utf-8\" http-equiv=\"Content-Type\"/>\n",
      "  <meta content=\"width=device-width,initial-scale=1\" name=\"viewport\"/>\n",
      "  <script src=\"https://www.google.com/recaptcha/api.js\">\n",
      "  </script>\n",
      "  <style type=\"text/css\">\n",
      "   #submit {\n",
      "        -webkit-border-radius: 4;\n",
      "        -moz-border-radius: 4;\n",
      "        border-radius: 4px;\n",
      "        font-family: Arial;\n",
      "        font-size: 16px;\n",
      "        background: #0c82a5;\n",
      "        padding: 7px 10px 7px 10px;\n",
      "        text-decoration: none;\n",
      "        color: #ffffff;\n",
      "        border: none;\n",
      "    }\n",
      "\n",
      "    #submit:hover {\n",
      "        background: #3cb0fd;\n",
      "        text-decoration: none;\n",
      "    }\n",
      "\n",
      "    body {\n",
      "        font-family: Arial,\"Helvetica Neue\",Helvetica,sans-serif;\n",
      "        margin: 0;\n",
      "    }\n",
      "    div#header {\n",
      "        height: 59px;\n",
      "        width: 100%;\n",
      "        background-color: #fff;\n",
      "        box-shadow: 0 0 1px rgba(0,0,0,.3);\n",
      "    }\n",
      "\n",
      "    div#error {\n",
      "        color: #0c82a5;\n",
      "        height: 25px;\n",
      "    }\n",
      "\n",
      "    img#logo {\n",
      "        height: 32px;\n",
      "        margin: 16px 0 0 10px;\n",
      "    }\n",
      "\n",
      "\n",
      "    a.link:link, a.link:visited {\n",
      "        text-decoration: none;\n",
      "        color: #0c82a5;\n",
      "    }\n",
      "\n",
      "    a.link:hover, a.link:active {\n",
      "        text-decoration: underline;\n",
      "        color: #0c82a5;\n",
      "    }\n",
      "\n",
      "    div#hdn {\n",
      "        display: none;\n",
      "    }\n",
      "\n",
      "    div#txtWrapper {\n",
      "        margin-left: 10px;\n",
      "        margin-right: 10px;\n",
      "    }\n",
      "\n",
      "    div#txt {\n",
      "        max-width: 650px;\n",
      "        margin-left: auto;\n",
      "        margin-right: auto;\n",
      "    }\n",
      "\n",
      "    div#captcha {\n",
      "        width: 300px;\n",
      "        margin-left: auto;\n",
      "        margin-right: auto;\n",
      "    }\n",
      "  </style>\n",
      " </head>\n",
      " <body>\n",
      "  <div id=\"header\">\n",
      "   <img alt=\"Redfin Real Estate\" id=\"logo\" src=\"data:image/png;base64,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\"/>\n",
      "  </div>\n",
      "  <div id=\"txtWrapper\">\n",
      "   <div id=\"txt\">\n",
      "    <br/>\n",
      "    <p>\n",
      "     Oops!  It looks like our usage analysis algorithms think that you\n",
      "    might be a robot.  Accessing the redfin.com in an automated fashion is a\n",
      "    violation of the\n",
      "     <a class=\"link\" href=\"/docs/tos.html\">\n",
      "      Redfin's terms of use.\n",
      "     </a>\n",
      "    </p>\n",
      "    <p>\n",
      "     Please complete the captcha below to access Redfin.\n",
      "    </p>\n",
      "    <form autocomplete=\"off\" id=\"rf_unblock\" method=\"POST\" name=\"rf_unblock\">\n",
      "     <div id=\"hdn\">\n",
      "      <input autocomplete=\"off\" name=\"email\" placeholder=\"Don't fill this out unless you are a spam bot\" type=\"text\"/>\n",
      "     </div>\n",
      "     <div id=\"captcha\">\n",
      "      <div>\n",
      "      </div>\n",
      "      <div class=\"g-recaptcha\" data-callback=\"enableBtn\" data-sitekey=\"6LeXKQ4TAAAAAF9-W9Ib3-GqbQdvKVg9xaXsSZD_\">\n",
      "      </div>\n",
      "      <input id=\"submit\" name=\"submit\" type=\"submit\" value=\"Submit\"/>\n",
      "     </div>\n",
      "    </form>\n",
      "   </div>\n",
      "  </div>\n",
      " </body>\n",
      "</html>\n",
      "\n"
     ]
    }
   ],
   "source": [
    "# using BeautifulSoup module to parse and process the source\n",
    "soup = bs(source, 'lxml')\n",
    "print(soup.prettify())"
   ]
  },
  {
   "cell_type": "code",
   "execution_count": 20,
   "metadata": {},
   "outputs": [],
   "source": [
    "t_d = soup.find_all('table', class_='content')"
   ]
  },
  {
   "cell_type": "code",
   "execution_count": 26,
   "metadata": {},
   "outputs": [
    {
     "name": "stdout",
     "output_type": "stream",
     "text": [
      "[]\n"
     ]
    }
   ],
   "source": []
  },
  {
   "cell_type": "code",
   "execution_count": null,
   "metadata": {},
   "outputs": [],
   "source": []
  }
 ],
 "metadata": {
  "kernelspec": {
   "display_name": "Python 3",
   "language": "python",
   "name": "python3"
  },
  "language_info": {
   "codemirror_mode": {
    "name": "ipython",
    "version": 3
   },
   "file_extension": ".py",
   "mimetype": "text/x-python",
   "name": "python",
   "nbconvert_exporter": "python",
   "pygments_lexer": "ipython3",
   "version": "3.7.3"
  }
 },
 "nbformat": 4,
 "nbformat_minor": 2
}
